{
 "cells": [
  {
   "cell_type": "code",
   "execution_count": null,
   "id": "bd4157b6",
   "metadata": {},
   "outputs": [],
   "source": [
    "Question 1"
   ]
  },
  {
   "cell_type": "code",
   "execution_count": null,
   "id": "0fa2d06e",
   "metadata": {},
   "outputs": [],
   "source": [
    "The difference between the two kinds of expressions is that the List comprehension is enclosed in square brackets [] while the\n",
    "Generator expression is enclosed in plain parentheses () ."
   ]
  },
  {
   "cell_type": "code",
   "execution_count": null,
   "id": "e4629e20",
   "metadata": {},
   "outputs": [],
   "source": [
    "Question 2"
   ]
  },
  {
   "cell_type": "code",
   "execution_count": null,
   "id": "5a3df943",
   "metadata": {},
   "outputs": [],
   "source": [
    "Generators : It is another way of creating iterators in a simple way where it uses the keyword “yield” instead of returning it\n",
    "in a defined function. Generators are implemented using a function. Just as iterators, generators also follow lazy evaluation.\n",
    "Here, the yield function returns the data without affecting or exiting the function. It will return a sequence of data in an\n",
    "iterable format where we need to iterate over the sequence to use the data as they won’t store the entire sequence in the memory.\n",
    "\n",
    "Iterators : An iterator is an object which contains a countable number of values and it is used to iterate over iterable objects\n",
    "like list, tuples, sets, etc. Iterators are implemented using a class and a local variable for iterating is not required\n",
    "here, It follows lazy evaluation where the evaluation of the expression will be on hold and stored in the memory until the\n",
    "item is called specifically which helps us to avoid repeated evaluation. As lazy evaluation is implemented, it requires only 1\n",
    "memory location to process the value and when we are using a large dataset then, wastage of RAM space will be reduced the need\n",
    "to load the entire dataset at the same time will not be there."
   ]
  },
  {
   "cell_type": "code",
   "execution_count": null,
   "id": "5d0e7dc2",
   "metadata": {},
   "outputs": [],
   "source": [
    "Question 3"
   ]
  },
  {
   "cell_type": "code",
   "execution_count": null,
   "id": "13834396",
   "metadata": {},
   "outputs": [],
   "source": [
    "In a generator function, a yield statement is used rather than a return statement."
   ]
  },
  {
   "cell_type": "code",
   "execution_count": null,
   "id": "1eda0ac1",
   "metadata": {},
   "outputs": [],
   "source": [
    "Question 4"
   ]
  },
  {
   "cell_type": "code",
   "execution_count": null,
   "id": "b72829d6",
   "metadata": {},
   "outputs": [],
   "source": [
    "Yield is a keyword in Python that is used to return from a function without destroying the states of its local variable and\n",
    "when the function is called, the execution starts from the last yield statement. Any function that contains a yield keyword is\n",
    "termed as generator. Hence, yield is what makes a generator. yield keyword in Python is less known off but has a greater utility\n",
    "which one can think of."
   ]
  },
  {
   "cell_type": "code",
   "execution_count": null,
   "id": "bd151809",
   "metadata": {},
   "outputs": [],
   "source": [
    "Question 5"
   ]
  },
  {
   "cell_type": "code",
   "execution_count": null,
   "id": "367f355a",
   "metadata": {},
   "outputs": [],
   "source": [
    "List comprehension is more concise and easier to read as compared to map.\n",
    "\n",
    "List comprehension allows filtering. In map, we have no such facility. For example, to print all even numbers in range of 100,\n",
    "we can write [n for n in range(100) if n%2 == 0]. There is no alternate for it in map.\n",
    "\n",
    "List comprehension are used when a list of results is required as map only returns a map object and does not return any list.\n",
    "\n",
    "List comprehension is faster than map when we need to evaluate expressions that are too long or complicated to express.\n",
    "\n",
    "Map is faster in case of calling an already defined function (as no lambda is required)."
   ]
  }
 ],
 "metadata": {
  "kernelspec": {
   "display_name": "Python 3 (ipykernel)",
   "language": "python",
   "name": "python3"
  },
  "language_info": {
   "codemirror_mode": {
    "name": "ipython",
    "version": 3
   },
   "file_extension": ".py",
   "mimetype": "text/x-python",
   "name": "python",
   "nbconvert_exporter": "python",
   "pygments_lexer": "ipython3",
   "version": "3.9.7"
  }
 },
 "nbformat": 4,
 "nbformat_minor": 5
}
